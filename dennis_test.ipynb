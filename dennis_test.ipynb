{
 "cells": [
  {
   "cell_type": "code",
   "execution_count": 4,
   "metadata": {},
   "outputs": [],
   "source": [
    "import pandas as pd\n",
    "import numpy as np\n",
    "import matplotlib.pyplot as plt\n",
    "import os"
   ]
  },
  {
   "cell_type": "code",
   "execution_count": 5,
   "metadata": {},
   "outputs": [],
   "source": [
    "# read the csv\n",
    "df = pd.read_csv('distribution.csv')\n",
    "df.head()\n",
    "\n",
    "label_matrix = np.array(df.values[:, 1:-1])"
   ]
  },
  {
   "cell_type": "code",
   "execution_count": 6,
   "metadata": {},
   "outputs": [],
   "source": [
    "# label_matrix = label_matrix[:20, :]"
   ]
  },
  {
   "cell_type": "code",
   "execution_count": 7,
   "metadata": {},
   "outputs": [
    {
     "name": "stdout",
     "output_type": "stream",
     "text": [
      "(41, 4)\n"
     ]
    }
   ],
   "source": [
    "print(label_matrix.shape)"
   ]
  },
  {
   "cell_type": "code",
   "execution_count": 15,
   "metadata": {},
   "outputs": [],
   "source": [
    "split_rate = 0.75\n",
    "tolerance = 0.05\n",
    "total_sum_label = np.array(df.iloc[:, 1:-1].sum())\n",
    "total_sum_label = np.sum(label_matrix.astype(np.int64), axis=0)"
   ]
  },
  {
   "cell_type": "code",
   "execution_count": 16,
   "metadata": {},
   "outputs": [
    {
     "data": {
      "text/plain": [
       "array([1106,  350,  389, 1990], dtype=int64)"
      ]
     },
     "execution_count": 16,
     "metadata": {},
     "output_type": "execute_result"
    }
   ],
   "source": [
    "total_sum_label"
   ]
  },
  {
   "cell_type": "code",
   "execution_count": 23,
   "metadata": {},
   "outputs": [],
   "source": [
    "def check_upper_unsatisfied(current_situation):\n",
    "    upper = split_rate + tolerance\n",
    "    current_situation = np.divide(current_situation, total_sum_label)\n",
    "    return np.all(current_situation <= upper)\n",
    "\n",
    "def check_lower_satisfied(current_situation):\n",
    "    lower = split_rate - tolerance\n",
    "    current_situation = np.divide(current_situation, total_sum_label)\n",
    "    return np.all(current_situation >= lower)\n",
    "\n",
    "def check_lower_unsatisfied(current_situation):\n",
    "    lower = split_rate - tolerance\n",
    "    current_situation = np.divide(current_situation, total_sum_label)\n",
    "    return np.any(current_situation < lower)"
   ]
  },
  {
   "cell_type": "code",
   "execution_count": 35,
   "metadata": {},
   "outputs": [],
   "source": [
    "def diff(current_situation, noise = False):\n",
    "    # print(total_sum_label - current_situation)\n",
    "    diff_num = total_sum_label * split_rate - current_situation\n",
    "    if noise == True:\n",
    "        diff_num = makeNoise(diff_num, scale = np.abs(np.mean(diff_num)/10))\n",
    "    # if the diff is negative, increase its weight\n",
    "    diff_num[diff_num > 0] *= 5\n",
    "    return np.sum(diff_num)\n",
    "\n",
    "def makeNoise(score, scale):\n",
    "    gumbel_noise = np.random.gumbel(0, scale, size=score.shape) + score\n",
    "    return gumbel_noise"
   ]
  },
  {
   "cell_type": "code",
   "execution_count": 25,
   "metadata": {},
   "outputs": [
    {
     "data": {
      "text/plain": [
       "array([ 55.55135354,  58.5077074 ,  92.69979768, 124.59671125])"
      ]
     },
     "execution_count": 25,
     "metadata": {},
     "output_type": "execute_result"
    }
   ],
   "source": [
    "makeNoise(np.array([50,50,100,100]), 20)"
   ]
  },
  {
   "cell_type": "code",
   "execution_count": 26,
   "metadata": {},
   "outputs": [],
   "source": [
    "import threading\n",
    "import numpy as np\n",
    "import time\n",
    "\n",
    "class myThread(threading.Thread):\n",
    "  def __init__(self, group, target, name, args, kwargs, daemon) -> None:\n",
    "    super().__init__(group, target, name, args, kwargs, daemon=daemon)\n",
    "    self.result = None\n",
    "    self.target = target\n",
    "    self.args = args\n",
    "    self.kwargs = kwargs\n",
    "\n",
    "  def run(self):\n",
    "    self.result = self.target(*self.args, **self.kwargs)\n",
    "    print(f\"{self.name} finished at {time.ctime()}\")\n",
    "\n",
    "def add_arrays(arr1, arr2):\n",
    "  return np.add(arr1, arr2)\n",
    "\n",
    "threads = []"
   ]
  },
  {
   "cell_type": "code",
   "execution_count": 27,
   "metadata": {},
   "outputs": [
    {
     "name": "stdout",
     "output_type": "stream",
     "text": [
      "[ 0  1  2  3  4  5  6  7  8  9 10 11 12 13 14 15 16 17 18 19 20 21 22 23\n",
      " 24 25 26 27 28 29 30 31 32 33 34 35 36 37 38 39 40]\n"
     ]
    }
   ],
   "source": [
    "index = np.arange(label_matrix.shape[0])\n",
    "print(index)"
   ]
  },
  {
   "cell_type": "code",
   "execution_count": 28,
   "metadata": {},
   "outputs": [],
   "source": [
    "# arrays = [np.random.randint(1, 10, size=3) for _ in range(200)]\n",
    "# for i in range(100):\n",
    "#   # 从arrays中取出两个数组作为参数\n",
    "#   arr1 = arrays[2 * i]\n",
    "#   arr2 = arrays[2 * i + 1]\n",
    "#   # 创建一个线程的实例，传入函数和数组作为参数\n",
    "#   thread = myThread(None, add_arrays, f\"thread_{i}\", (arr1, arr2), {}, None)\n",
    "#   # 将线程的实例添加到列表中\n",
    "#   threads.append(thread)\n",
    "\n",
    "# # 循环列表中的每个线程\n",
    "# for thread in threads:\n",
    "#   # 启动线程\n",
    "#   thread.start()\n",
    "\n",
    "# # 循环列表中的每个线程\n",
    "# for thread in threads:\n",
    "#   # 等待线程结束\n",
    "#   thread.join()\n",
    "#   # 打印线程的名字和结果\n",
    "#   print(f\"{thread.name}: {thread.result}\")\n"
   ]
  },
  {
   "cell_type": "code",
   "execution_count": null,
   "metadata": {},
   "outputs": [],
   "source": []
  },
  {
   "cell_type": "code",
   "execution_count": 29,
   "metadata": {},
   "outputs": [],
   "source": [
    "from heapq import heappush, heappop, heapify\n",
    "def greedy_method(label_matrix):\n",
    "    end = False\n",
    "    current_result = np.zeros(label_matrix.shape[1]).astype(np.int64)\n",
    "    index = list(range(label_matrix.shape[0]))\n",
    "    result_idx = []\n",
    "    label_matrix = label_matrix.astype(np.int64)\n",
    "    while not end:\n",
    "        # new a queue\n",
    "        heap = []\n",
    "        for i in index:\n",
    "            diff_result = diff(current_result + label_matrix[i])\n",
    "            heappush(heap, (diff_result, i))\n",
    "        \n",
    "        # get the best result\n",
    "        # print(heap)\n",
    "        # if all are negative, then end\n",
    "        if heap[0][0] < 0:\n",
    "            end = True\n",
    "            break\n",
    "        best_result = heappop(heap)\n",
    "        current_result += label_matrix[best_result[1]]\n",
    "        index.remove(best_result[1])\n",
    "        print(f\"best_result: {best_result}\")\n",
    "        print(f\"label matrix: {label_matrix[best_result[1]]}\")\n",
    "        print(f\"current_result: {current_result}\")\n",
    "        result_idx.append(best_result[1])\n",
    "        print(result_idx)\n",
    "    return current_result, result_idx"
   ]
  },
  {
   "cell_type": "code",
   "execution_count": 40,
   "metadata": {},
   "outputs": [
    {
     "name": "stdout",
     "output_type": "stream",
     "text": [
      "best_result: (10456.451521207633, 36)\n",
      "label matrix: [  0   0   0 725]\n",
      "current_result: [  0   0   0 725]\n",
      "[36]\n",
      "best_result: (9260.804386895634, 40)\n",
      "label matrix: [130   0   0 229]\n",
      "current_result: [130   0   0 954]\n",
      "[36, 40]\n",
      "best_result: (7517.937763044056, 34)\n",
      "label matrix: [ 90   0   0 117]\n",
      "current_result: [ 220    0    0 1071]\n",
      "[36, 40, 34]\n",
      "best_result: (6507.365377223946, 35)\n",
      "label matrix: [ 47   0 199  30]\n",
      "current_result: [ 267    0  199 1101]\n",
      "[36, 40, 34, 35]\n",
      "best_result: (5592.103229022665, 37)\n",
      "label matrix: [55 17 66  0]\n",
      "current_result: [ 322   17  265 1101]\n",
      "[36, 40, 34, 35, 37]\n",
      "best_result: (4984.4612353126595, 29)\n",
      "label matrix: [143   0   0   0]\n",
      "current_result: [ 465   17  265 1101]\n",
      "[36, 40, 34, 35, 37, 29]\n",
      "best_result: (4518.140889876255, 13)\n",
      "label matrix: [81 52  0  0]\n",
      "current_result: [ 546   69  265 1101]\n",
      "[36, 40, 34, 35, 37, 29, 13]\n",
      "best_result: (3665.1432240032136, 33)\n",
      "label matrix: [  0   0   0 147]\n",
      "current_result: [ 546   69  265 1248]\n",
      "[36, 40, 34, 35, 37, 29, 13, 33]\n",
      "best_result: (2974.330723843428, 32)\n",
      "label matrix: [40  0  0 71]\n",
      "current_result: [ 586   69  265 1319]\n",
      "[36, 40, 34, 35, 37, 29, 13, 33, 32]\n",
      "best_result: (2647.209866234487, 22)\n",
      "label matrix: [22  0  0 79]\n",
      "current_result: [ 608   69  265 1398]\n",
      "[36, 40, 34, 35, 37, 29, 13, 33, 32, 22]\n",
      "best_result: (2170.3131846035544, 28)\n",
      "label matrix: [33 18  0 41]\n",
      "current_result: [ 641   87  265 1439]\n",
      "[36, 40, 34, 35, 37, 29, 13, 33, 32, 22, 28]\n",
      "best_result: (1520.867713640612, 25)\n",
      "label matrix: [76  0  0 39]\n",
      "current_result: [ 717   87  265 1478]\n",
      "[36, 40, 34, 35, 37, 29, 13, 33, 32, 22, 28, 25]\n",
      "best_result: (1191.5351804770637, 21)\n",
      "label matrix: [43 32 19  0]\n",
      "current_result: [ 760  119  284 1478]\n",
      "[36, 40, 34, 35, 37, 29, 13, 33, 32, 22, 28, 25, 21]\n",
      "best_result: (806.4997080669082, 2)\n",
      "label matrix: [ 6 44 29 18]\n",
      "current_result: [ 766  163  313 1496]\n",
      "[36, 40, 34, 35, 37, 29, 13, 33, 32, 22, 28, 25, 21, 2]\n",
      "best_result: (521.8727316296904, 17)\n",
      "label matrix: [35 20  4  1]\n",
      "current_result: [ 801  183  317 1497]\n",
      "[36, 40, 34, 35, 37, 29, 13, 33, 32, 22, 28, 25, 21, 2, 17]\n",
      "best_result: (237.92566505164586, 8)\n",
      "label matrix: [10 46  0  0]\n",
      "current_result: [ 811  229  317 1497]\n",
      "[36, 40, 34, 35, 37, 29, 13, 33, 32, 22, 28, 25, 21, 2, 17, 8]\n",
      "best_result: (3.320194374975684, 9)\n",
      "label matrix: [10 42  0  0]\n",
      "current_result: [ 821  271  317 1497]\n",
      "[36, 40, 34, 35, 37, 29, 13, 33, 32, 22, 28, 25, 21, 2, 17, 8, 9]\n"
     ]
    }
   ],
   "source": [
    "\n",
    "current_result, result_idx = greedy_method(label_matrix)"
   ]
  },
  {
   "cell_type": "code",
   "execution_count": 43,
   "metadata": {},
   "outputs": [
    {
     "name": "stdout",
     "output_type": "stream",
     "text": [
      "[0.74231465 0.77428571 0.81491003 0.75226131]\n",
      "[2, 8, 9, 13, 17, 21, 22, 25, 28, 29, 32, 33, 34, 35, 36, 37, 40]\n"
     ]
    }
   ],
   "source": [
    "print(np.divide(current_result, total_sum_label))\n",
    "print(sorted(result_idx))"
   ]
  },
  {
   "cell_type": "code",
   "execution_count": 1,
   "metadata": {},
   "outputs": [],
   "source": [
    "def diff2(current_situation):\n",
    "    # print(total_sum_label - current_situation)\n",
    "    noise = False\n",
    "    diff_num = total_sum_label * split_rate - current_situation\n",
    "    if noise == True:\n",
    "        diff_num = makeNoise(diff_num, scale = np.abs(np.mean(diff_num)/10))\n",
    "    # if the diff is negative, increase its weight\n",
    "    \n",
    "    # normalize the diff\n",
    "    \n",
    "    diff_num = np.divide(diff_num, total_sum_label)\n",
    "    \n",
    "    diff_num[diff_num > 0] = np.exp(diff_num[diff_num > 0])\n",
    "    diff_num[diff_num < 0] = -np.exp(diff_num[diff_num < 0])\n",
    "    return np.sum(diff_num)"
   ]
  },
  {
   "cell_type": "code",
   "execution_count": 147,
   "metadata": {},
   "outputs": [],
   "source": [
    "# method 2\n",
    "\n",
    "from itertools import combinations as comb\n",
    "\n",
    "def greedy_method2(label_matrix):\n",
    "    end = False\n",
    "    \n",
    "    combination_list = comb(range(label_matrix.shape[0]), 2)\n",
    "    # print(list(combination_list))\n",
    "    # print(label_matrix)\n",
    "    k = 1000\n",
    "    counter = 0\n",
    "    result = None\n",
    "    while not end:\n",
    "        counter += 1\n",
    "        queue = []\n",
    "        \n",
    "        for i in list(combination_list):\n",
    "            # print(i)\n",
    "            # print(label_matrix[i, :])\n",
    "            # print(np.sum(label_matrix[i, :], axis=0))\n",
    "            diff_result = diff2(np.sum(label_matrix[i, :], axis=0).astype(np.int64))\n",
    "            heappush(queue, (diff_result, i))\n",
    "            # print(queue)\n",
    "        print(len(queue))\n",
    "        # print(queue)\n",
    "        print(f\"best result: {queue[0]}\")\n",
    "        if queue[0][0] < 0 or len(queue) < 50:\n",
    "            end = True\n",
    "            result = queue\n",
    "            break\n",
    "        k_top_index = [heappop(queue)[1] for _ in range(np.min((k, len(queue))))]\n",
    "        # print(k_top_index)\n",
    "        \n",
    "        combination_list = list(comb(k_top_index, 2))\n",
    "        # print(combination_list)\n",
    "        # remove the duplicated index tuple, i.e. (1,2), (2,3) -> (1,2,3)\n",
    "        combination_list = list(set([tuple(sorted(set(a + b))) for a, b in combination_list]))\n",
    "        print(f\"{counter}th iteration, len of combination_list: {len(combination_list)}\")\n",
    "        \n",
    "        \n",
    "        if counter == 10: break\n",
    "        \n",
    "        # print(combination_list)\n",
    "        \n",
    "    return result\n",
    "        \n",
    "        # get the best result"
   ]
  },
  {
   "cell_type": "code",
   "execution_count": 150,
   "metadata": {},
   "outputs": [
    {
     "name": "stdout",
     "output_type": "stream",
     "text": [
      "820\n",
      "best result: (6.86378694107514, (35, 36))\n",
      "1th iteration, len of combination_list: 111930\n",
      "111930\n",
      "best result: (4.139780910671986, (2, 35, 36, 37))\n",
      "2th iteration, len of combination_list: 174041\n",
      "174041\n",
      "best result: (3.005722101272507, (2, 8, 13, 34, 35, 36, 37, 40))\n",
      "3th iteration, len of combination_list: 66928\n",
      "66928\n",
      "best result: (0.5614655933254309, (2, 8, 9, 13, 21, 27, 28, 34, 35, 36, 37, 40))\n",
      "4th iteration, len of combination_list: 51320\n",
      "51320\n",
      "best result: (-1.90318487753063, (2, 8, 9, 13, 17, 21, 22, 25, 28, 29, 32, 33, 34, 35, 36, 37, 40))\n",
      "51320\n"
     ]
    }
   ],
   "source": [
    "result = greedy_method2(label_matrix)\n",
    "print(len(result))"
   ]
  },
  {
   "cell_type": "code",
   "execution_count": 152,
   "metadata": {},
   "outputs": [
    {
     "name": "stdout",
     "output_type": "stream",
     "text": [
      "(2, 8, 9, 13, 17, 21, 22, 25, 26, 28, 29, 32, 34, 35, 36, 37, 40)\n",
      "[843.0 275.0 320.0 1385.0]\n",
      "[0.7622061482820977 0.7857142857142857 0.8226221079691517\n",
      " 0.6959798994974874]\n",
      "(2, 8, 9, 11, 13, 17, 21, 22, 25, 28, 29, 32, 34, 35, 36, 37, 40)\n",
      "[857.0 271.0 317.0 1369.0]\n",
      "[0.7748643761301989 0.7742857142857142 0.8149100257069408\n",
      " 0.6879396984924623]\n",
      "(2, 3, 8, 9, 13, 17, 21, 23, 25, 28, 29, 32, 34, 35, 36, 37, 40)\n",
      "[836.0 279.0 319.0 1382.0]\n",
      "[0.755877034358047 0.7971428571428572 0.8200514138817481\n",
      " 0.6944723618090453]\n",
      "(2, 8, 9, 10, 13, 17, 21, 23, 25, 28, 29, 33, 34, 35, 36, 37, 40)\n",
      "[767.0 271.0 317.0 1565.0]\n",
      "[0.6934900542495479 0.7742857142857142 0.8149100257069408\n",
      " 0.7864321608040201]\n",
      "(1, 2, 8, 9, 13, 21, 23, 28, 29, 32, 33, 34, 35, 36, 37, 40)\n",
      "[696.0 263.0 313.0 1493.0]\n",
      "[0.6292947558770343 0.7514285714285714 0.8046272493573264\n",
      " 0.750251256281407]\n",
      "(1, 2, 8, 9, 10, 13, 21, 28, 29, 32, 33, 34, 35, 36, 37, 40)\n",
      "[688.0 263.0 313.0 1501.0]\n",
      "[0.6220614828209765 0.7514285714285714 0.8046272493573264\n",
      " 0.7542713567839195]\n",
      "(2, 8, 9, 11, 13, 17, 21, 25, 28, 29, 32, 34, 35, 36, 37, 40)\n",
      "[835.0 271.0 317.0 1290.0]\n",
      "[0.7549728752260397 0.7742857142857142 0.8149100257069408\n",
      " 0.6482412060301508]\n",
      "(2, 8, 9, 10, 13, 21, 22, 27, 28, 29, 33, 34, 35, 36, 37, 40)\n",
      "[688.0 265.0 313.0 1499.0]\n",
      "[0.6220614828209765 0.7571428571428571 0.8046272493573264\n",
      " 0.7532663316582915]\n",
      "(2, 3, 8, 9, 13, 17, 21, 22, 25, 28, 29, 32, 34, 35, 36, 37, 40)\n",
      "[850.0 279.0 319.0 1356.0]\n",
      "[0.7685352622061483 0.7971428571428572 0.8200514138817481\n",
      " 0.6814070351758794]\n",
      "(2, 8, 9, 13, 17, 19, 21, 25, 28, 29, 32, 34, 35, 36, 37, 40)\n",
      "[830.0 271.0 317.0 1271.0]\n",
      "[0.7504520795660036 0.7742857142857142 0.8149100257069408\n",
      " 0.6386934673366834]\n"
     ]
    }
   ],
   "source": [
    "# get the top 10 results from the heap\n",
    "top_10 = [heappop(result) for _ in range(10)]\n",
    "\n",
    "for i in top_10:\n",
    "    # print(top_10)\n",
    "    index = i[1]\n",
    "    print(index)\n",
    "    print(np.sum(label_matrix[index,:], axis=0))\n",
    "    print(np.divide(np.sum(label_matrix[index,:], axis=0), total_sum_label))"
   ]
  },
  {
   "cell_type": "code",
   "execution_count": 3,
   "metadata": {},
   "outputs": [],
   "source": [
    "import numpy as np\n",
    "import pandas as pd\n",
    "from heapq import heappush, heappop, heapify\n",
    "\n",
    "class RandomGroupSplitter:\n",
    "    def __init__(self, noise, force_bound, tolerance, split_rate):\n",
    "        self.noise = noise\n",
    "        self.force_bound = force_bound\n",
    "        self.tolerance = tolerance\n",
    "        self.split_rate = split_rate\n",
    "        \n",
    "    def get_one_combination(self, label_matrix):\n",
    "        end = False\n",
    "        current_result = np.zeros(label_matrix.shape[1]).astype(np.int64)\n",
    "        index = list(range(label_matrix.shape[0]))\n",
    "        result_idx = []\n",
    "        label_matrix = label_matrix.astype(np.int64)\n",
    "        while not end:\n",
    "            # new a queue\n",
    "            heap = []\n",
    "            for i in index:\n",
    "                diff_result = diff(current_result + label_matrix[i], noise= self.noise)\n",
    "                heappush(heap, (diff_result, i))\n",
    "\n",
    "            if heap[0][0] < 0:\n",
    "                end = True\n",
    "                break\n",
    "            best_result = heappop(heap)\n",
    "            current_result += label_matrix[best_result[1]]\n",
    "            index.remove(best_result[1])\n",
    "            print(f\"best_result: {best_result}\")\n",
    "            print(f\"label matrix: {label_matrix[best_result[1]]}\")\n",
    "            print(f\"current_result: {current_result}\")\n",
    "            result_idx.append(best_result[1])\n",
    "            print(result_idx)\n",
    "        return current_result, result_idx\n",
    "    \n",
    "    def get_multi_combination():\n",
    "        pass"
   ]
  },
  {
   "cell_type": "code",
   "execution_count": null,
   "metadata": {},
   "outputs": [],
   "source": []
  }
 ],
 "metadata": {
  "kernelspec": {
   "display_name": "sklearn-env",
   "language": "python",
   "name": "python3"
  },
  "language_info": {
   "codemirror_mode": {
    "name": "ipython",
    "version": 3
   },
   "file_extension": ".py",
   "mimetype": "text/x-python",
   "name": "python",
   "nbconvert_exporter": "python",
   "pygments_lexer": "ipython3",
   "version": "3.8.16"
  }
 },
 "nbformat": 4,
 "nbformat_minor": 2
}
