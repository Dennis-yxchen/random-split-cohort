{
 "cells": [
  {
   "cell_type": "code",
   "execution_count": 217,
   "metadata": {},
   "outputs": [],
   "source": [
    "import numpy as np\n",
    "import pandas as pd\n",
    "from heapq import heappush, heappop, heapify\n",
    "from itertools import combinations as comb\n"
   ]
  },
  {
   "cell_type": "code",
   "execution_count": 218,
   "metadata": {},
   "outputs": [],
   "source": [
    "def rewardFunction(current_situation, split_rate, total_sum_label ,noise = False):\n",
    "    # print(total_sum_label - current_situation)\n",
    "    diff_num = total_sum_label * split_rate - current_situation\n",
    "    if noise == True:\n",
    "        diff_num = makeNoise(diff_num, scale = np.abs(np.mean(diff_num)/10))\n",
    "    # if the reward is negative, increase its weight\n",
    "    diff_num[diff_num > 0] *= 5\n",
    "    return np.sum(diff_num)\n",
    "\n",
    "def makeNoise(score, scale):\n",
    "    gumbel_noise = np.random.gumbel(0, scale, size=score.shape) + score\n",
    "    return gumbel_noise\n",
    "\n"
   ]
  },
  {
   "cell_type": "code",
   "execution_count": 219,
   "metadata": {},
   "outputs": [],
   "source": [
    "def rewardFunction2(current_situation, split_rate, total_sum_label ,noise = False):\n",
    "    # print(total_sum_label - current_situation)\n",
    "    noise = False\n",
    "    diff_num = total_sum_label * split_rate - current_situation\n",
    "    if noise == True:\n",
    "        diff_num = makeNoise(diff_num, scale = np.abs(np.mean(diff_num)/10))\n",
    "    # if the diff is negative, increase its weight\n",
    "    \n",
    "    # normalize the diff\n",
    "    \n",
    "    diff_num = np.divide(diff_num, total_sum_label)\n",
    "    \n",
    "    diff_num[diff_num > 0] = np.exp(diff_num[diff_num > 0])\n",
    "    diff_num[diff_num < 0] = -np.exp(diff_num[diff_num < 0])\n",
    "    return np.sum(diff_num)"
   ]
  },
  {
   "cell_type": "code",
   "execution_count": 220,
   "metadata": {},
   "outputs": [],
   "source": [
    "class RandomGroupSplitter:\n",
    "    def __init__(self, noise, force_bound, tolerance, split_rate, label_matrix):\n",
    "        self.noise = noise\n",
    "        self.force_bound = force_bound\n",
    "        self.tolerance = tolerance\n",
    "        self.split_rate = split_rate\n",
    "        self.label_matrix = label_matrix.astype(np.int64)\n",
    "        self.total_sum_label = np.sum(self.label_matrix, axis = 0)\n",
    "        self.tried_combination = []\n",
    "        \n",
    "    def get_one_combination(self):\n",
    "        end = False\n",
    "        current_result = np.zeros(self.label_matrix.shape[1]).astype(np.int64)\n",
    "        index = list(range(self.label_matrix.shape[0]))\n",
    "        result_idx = []\n",
    "        \n",
    "        while not end:\n",
    "            # new a queue\n",
    "            heap = []\n",
    "            for i in index:\n",
    "                diff_result = rewardFunction(current_result + self.label_matrix[i], self.split_rate ,self.total_sum_label, noise= self.noise)\n",
    "                heappush(heap, (diff_result, i))\n",
    "\n",
    "            if heap[0][0] < 0:\n",
    "                end = True\n",
    "                break\n",
    "            best_result = heappop(heap)\n",
    "            current_result += self.label_matrix[best_result[1]]\n",
    "            index.remove(best_result[1])\n",
    "            print(f\"best_result: {best_result}\")\n",
    "            print(f\"label matrix: {self.label_matrix[best_result[1]]}\")\n",
    "            print(f\"current_result: {current_result}\")\n",
    "            result_idx.append(best_result[1])\n",
    "            print(result_idx)\n",
    "        \n",
    "        \n",
    "        result_idx = sorted(result_idx)\n",
    "        self.tried_combination.append(tuple(result_idx))\n",
    "        \n",
    "        return current_result, result_idx\n",
    "    \n",
    "    def get_multi_combination(self, noOfCombination, top_k = 1000):\n",
    "        end = False\n",
    "        combination_list = comb(range(self.label_matrix.shape[0]), 2)\n",
    "        # print(list(combination_list))\n",
    "        # print(label_matrix)\n",
    "        counter = 0\n",
    "        result = None\n",
    "        while not end:\n",
    "            counter += 1\n",
    "            queue = []\n",
    "            \n",
    "            for i in list(combination_list):\n",
    "                # print(i)\n",
    "                # print(label_matrix[i, :])\n",
    "                # print(np.sum(label_matrix[i, :], axis=0))\n",
    "                diff_result = rewardFunction2(np.sum(self.label_matrix[i, :], axis=0), self.split_rate ,self.total_sum_label, noise= self.noise)\n",
    "                heappush(queue, (diff_result, i))\n",
    "                # print(queue)\n",
    "            print(len(queue))\n",
    "            # print(queue)\n",
    "            print(f\"best result: {queue[0]}\")\n",
    "            if queue[0][0] < 0 or len(queue) < 50:\n",
    "                end = True\n",
    "                result = queue\n",
    "                break\n",
    "            k_top_index = [heappop(queue)[1] for _ in range(np.min((top_k, len(queue))))]\n",
    "            # print(k_top_index)\n",
    "            \n",
    "            combination_list = list(comb(k_top_index, 2))\n",
    "            # print(combination_list)\n",
    "            # remove the duplicated index tuple, i.e. (1,2), (2,3) -> (1,2,3)\n",
    "            combination_list = list(set([tuple(sorted(set(a + b))) for a, b in combination_list]))\n",
    "            print(f\"{counter}th iteration, len of combination_list: {len(combination_list)}\")\n",
    "            \n",
    "            \n",
    "            if counter == 10: \n",
    "                print(f\"cannot converge\")\n",
    "                result = queue\n",
    "                break\n",
    "            \n",
    "            # print(combination_list)\n",
    "        top_k_group_combination = [heappop(result) for _ in range(noOfCombination)]\n",
    "        \n",
    "        top_k_distribution = np.zeros((noOfCombination, self.label_matrix.shape[1]))\n",
    "        \n",
    "        for idx,i in enumerate(top_k_group_combination):\n",
    "            index = i[1]\n",
    "            top_k_distribution[idx] = (np.sum(self.label_matrix[index,:], axis=0))\n",
    "            \n",
    "        print(top_k_distribution)\n",
    "        print(top_k_group_combination)\n",
    "        top_k_group_combination = [i[1] for i in top_k_group_combination]\n",
    "        \n",
    "        for i in top_k_group_combination:\n",
    "            self.tried_combination.append(tuple(i))\n",
    "        \n",
    "        return top_k_distribution, top_k_group_combination\n",
    "\n",
    "    def get_tried_combination(self):\n",
    "        print(self.tried_combination)\n",
    "        return list(set(self.tried_combination))\n",
    "    \n",
    "    def get_remain_test_combination(self, train_combination):\n",
    "        all_combination = list(range(self.label_matrix.shape[0]))\n",
    "        tried_combination = train_combination\n",
    "        remain_combination = sorted(list(set(all_combination) - set(tried_combination)))\n",
    "        return remain_combination"
   ]
  },
  {
   "cell_type": "code",
   "execution_count": 221,
   "metadata": {},
   "outputs": [],
   "source": [
    "df = pd.read_csv('distribution.csv')\n",
    "label_matrix = np.array(df.values[:, 1:-1])"
   ]
  },
  {
   "cell_type": "code",
   "execution_count": 222,
   "metadata": {},
   "outputs": [],
   "source": [
    "RGS = RandomGroupSplitter(noise = True, force_bound = False, tolerance = 0.1, split_rate = 0.75, label_matrix = label_matrix)"
   ]
  },
  {
   "cell_type": "code",
   "execution_count": 223,
   "metadata": {},
   "outputs": [
    {
     "name": "stdout",
     "output_type": "stream",
     "text": [
      "best_result: (11388.609462494289, 36)\n",
      "label matrix: [  0   0   0 725]\n",
      "current_result: [  0   0   0 725]\n",
      "[36]\n",
      "best_result: (9594.519546137497, 30)\n",
      "label matrix: [ 9  0  0 28]\n",
      "current_result: [  9   0   0 753]\n",
      "[36, 30]\n",
      "best_result: (9167.736981086995, 35)\n",
      "label matrix: [ 47   0 199  30]\n",
      "current_result: [ 56   0 199 783]\n",
      "[36, 30, 35]\n",
      "best_result: (7626.887218225989, 40)\n",
      "label matrix: [130   0   0 229]\n",
      "current_result: [ 186    0  199 1012]\n",
      "[36, 30, 35, 40]\n",
      "best_result: (6266.292321841546, 34)\n",
      "label matrix: [ 90   0   0 117]\n",
      "current_result: [ 276    0  199 1129]\n",
      "[36, 30, 35, 40, 34]\n",
      "best_result: (5748.912008085197, 13)\n",
      "label matrix: [81 52  0  0]\n",
      "current_result: [ 357   52  199 1129]\n",
      "[36, 30, 35, 40, 34, 13]\n",
      "best_result: (4826.781094861635, 22)\n",
      "label matrix: [22  0  0 79]\n",
      "current_result: [ 379   52  199 1208]\n",
      "[36, 30, 35, 40, 34, 13, 22]\n",
      "best_result: (4512.577374131799, 5)\n",
      "label matrix: [12  0 24  0]\n",
      "current_result: [ 391   52  223 1208]\n",
      "[36, 30, 35, 40, 34, 13, 22, 5]\n",
      "best_result: (4139.0500088574, 37)\n",
      "label matrix: [55 17 66  0]\n",
      "current_result: [ 446   69  289 1208]\n",
      "[36, 30, 35, 40, 34, 13, 22, 5, 37]\n",
      "best_result: (3576.681528555402, 33)\n",
      "label matrix: [  0   0   0 147]\n",
      "current_result: [ 446   69  289 1355]\n",
      "[36, 30, 35, 40, 34, 13, 22, 5, 37, 33]\n",
      "best_result: (3001.7899357901797, 21)\n",
      "label matrix: [43 32 19  0]\n",
      "current_result: [ 489  101  308 1355]\n",
      "[36, 30, 35, 40, 34, 13, 22, 5, 37, 33, 21]\n",
      "best_result: (2493.7081672104223, 10)\n",
      "label matrix: [  0   0   0 113]\n",
      "current_result: [ 489  101  308 1468]\n",
      "[36, 30, 35, 40, 34, 13, 22, 5, 37, 33, 21, 10]\n",
      "best_result: (2132.4808443437432, 29)\n",
      "label matrix: [143   0   0   0]\n",
      "current_result: [ 632  101  308 1468]\n",
      "[36, 30, 35, 40, 34, 13, 22, 5, 37, 33, 21, 10, 29]\n",
      "best_result: (1512.2610021077126, 25)\n",
      "label matrix: [76  0  0 39]\n",
      "current_result: [ 708  101  308 1507]\n",
      "[36, 30, 35, 40, 34, 13, 22, 5, 37, 33, 21, 10, 29, 25]\n",
      "best_result: (1096.147481705466, 9)\n",
      "label matrix: [10 42  0  0]\n",
      "current_result: [ 718  143  308 1507]\n",
      "[36, 30, 35, 40, 34, 13, 22, 5, 37, 33, 21, 10, 29, 25, 9]\n",
      "best_result: (839.891306261424, 28)\n",
      "label matrix: [33 18  0 41]\n",
      "current_result: [ 751  161  308 1548]\n",
      "[36, 30, 35, 40, 34, 13, 22, 5, 37, 33, 21, 10, 29, 25, 9, 28]\n",
      "best_result: (530.9325975950275, 2)\n",
      "label matrix: [ 6 44 29 18]\n",
      "current_result: [ 757  205  337 1566]\n",
      "[36, 30, 35, 40, 34, 13, 22, 5, 37, 33, 21, 10, 29, 25, 9, 28, 2]\n",
      "best_result: (256.25428088667013, 17)\n",
      "label matrix: [35 20  4  1]\n",
      "current_result: [ 792  225  341 1567]\n",
      "[36, 30, 35, 40, 34, 13, 22, 5, 37, 33, 21, 10, 29, 25, 9, 28, 2, 17]\n",
      "best_result: (22.197788054588784, 32)\n",
      "label matrix: [40  0  0 71]\n",
      "current_result: [ 832  225  341 1638]\n",
      "[36, 30, 35, 40, 34, 13, 22, 5, 37, 33, 21, 10, 29, 25, 9, 28, 2, 17, 32]\n"
     ]
    }
   ],
   "source": [
    "current_result, result_idx = RGS.get_one_combination()"
   ]
  },
  {
   "cell_type": "code",
   "execution_count": 224,
   "metadata": {},
   "outputs": [
    {
     "name": "stdout",
     "output_type": "stream",
     "text": [
      "[0.7522603978300181 0.6428571428571429 0.8766066838046273\n",
      " 0.8231155778894472]\n",
      "[2, 5, 9, 10, 13, 17, 21, 22, 25, 28, 29, 30, 32, 33, 34, 35, 36, 37, 40]\n"
     ]
    }
   ],
   "source": [
    "print(np.divide(current_result, np.sum(label_matrix, axis = 0)))\n",
    "\n",
    "print(result_idx)"
   ]
  },
  {
   "cell_type": "code",
   "execution_count": 225,
   "metadata": {},
   "outputs": [
    {
     "name": "stdout",
     "output_type": "stream",
     "text": [
      "820\n",
      "best result: (6.86378694107514, (35, 36))\n"
     ]
    },
    {
     "name": "stdout",
     "output_type": "stream",
     "text": [
      "1th iteration, len of combination_list: 111930\n",
      "111930\n",
      "best result: (4.139780910671986, (2, 35, 36, 37))\n",
      "2th iteration, len of combination_list: 174041\n",
      "174041\n",
      "best result: (3.005722101272507, (2, 8, 13, 34, 35, 36, 37, 40))\n",
      "3th iteration, len of combination_list: 66928\n",
      "66928\n",
      "best result: (0.5614655933254309, (2, 8, 9, 13, 21, 27, 28, 34, 35, 36, 37, 40))\n",
      "4th iteration, len of combination_list: 51320\n",
      "51320\n",
      "best result: (-1.90318487753063, (2, 8, 9, 13, 17, 21, 22, 25, 28, 29, 32, 33, 34, 35, 36, 37, 40))\n",
      "[[ 821.  271.  317. 1497.]\n",
      " [ 835.  271.  317. 1437.]\n",
      " [ 807.  271.  317. 1523.]\n",
      " [ 833.  271.  317. 1412.]\n",
      " [ 799.  271.  317. 1531.]\n",
      " [ 835.  271.  317. 1403.]\n",
      " [ 789.  271.  317. 1531.]\n",
      " [ 779.  271.  317. 1514.]\n",
      " [ 843.  271.  317. 1395.]\n",
      " [ 781.  271.  317. 1539.]]\n",
      "[(-1.90318487753063, (2, 8, 9, 13, 17, 21, 22, 25, 28, 29, 32, 33, 34, 35, 36, 37, 40)), (-1.879916060308184, (2, 8, 9, 11, 13, 17, 21, 25, 28, 29, 32, 33, 34, 35, 36, 37, 40)), (-1.877396890391712, (2, 8, 9, 13, 17, 21, 23, 25, 28, 29, 32, 33, 34, 35, 36, 37, 40)), (-1.8687174358591048, (2, 8, 9, 13, 17, 21, 22, 25, 28, 29, 32, 34, 35, 36, 37, 39, 40)), (-1.8660371888089593, (2, 8, 9, 10, 13, 17, 21, 25, 28, 29, 32, 33, 34, 35, 36, 37, 40)), (-1.862196480896788, (2, 8, 9, 10, 11, 13, 17, 21, 25, 28, 29, 32, 34, 35, 36, 37, 40)), (-1.8567006440341125, (2, 8, 9, 13, 17, 21, 22, 23, 25, 28, 29, 33, 34, 35, 36, 37, 40)), (-1.85569421965869, (2, 8, 9, 13, 17, 21, 23, 25, 28, 29, 33, 34, 35, 36, 37, 39, 40)), (-1.8508115612866354, (2, 8, 9, 11, 13, 17, 21, 23, 25, 28, 29, 32, 34, 35, 36, 37, 40)), (-1.8452352320268166, (2, 8, 9, 10, 13, 17, 21, 22, 25, 28, 29, 33, 34, 35, 36, 37, 40))]\n"
     ]
    }
   ],
   "source": [
    "multi_result, multi_result2 = RGS.get_multi_combination(10, 1000)"
   ]
  },
  {
   "cell_type": "code",
   "execution_count": 226,
   "metadata": {},
   "outputs": [
    {
     "name": "stdout",
     "output_type": "stream",
     "text": [
      "[[0.7423146473779385 0.7742857142857142 0.8149100257069408\n",
      "  0.7522613065326633]\n",
      " [0.7549728752260397 0.7742857142857142 0.8149100257069408\n",
      "  0.7221105527638191]\n",
      " [0.7296564195298373 0.7742857142857142 0.8149100257069408\n",
      "  0.7653266331658292]\n",
      " [0.7531645569620253 0.7742857142857142 0.8149100257069408\n",
      "  0.7095477386934673]\n",
      " [0.7224231464737794 0.7742857142857142 0.8149100257069408\n",
      "  0.7693467336683417]\n",
      " [0.7549728752260397 0.7742857142857142 0.8149100257069408\n",
      "  0.7050251256281407]\n",
      " [0.713381555153707 0.7742857142857142 0.8149100257069408\n",
      "  0.7693467336683417]\n",
      " [0.7043399638336347 0.7742857142857142 0.8149100257069408\n",
      "  0.7608040201005025]\n",
      " [0.7622061482820977 0.7742857142857142 0.8149100257069408\n",
      "  0.7010050251256281]\n",
      " [0.7061482820976492 0.7742857142857142 0.8149100257069408\n",
      "  0.7733668341708543]]\n"
     ]
    }
   ],
   "source": [
    "print(np.divide(multi_result, np.sum(label_matrix, axis = 0)))"
   ]
  },
  {
   "cell_type": "code",
   "execution_count": 232,
   "metadata": {},
   "outputs": [
    {
     "name": "stdout",
     "output_type": "stream",
     "text": [
      "[(2, 8, 9, 13, 17, 21, 22, 25, 28, 29, 32, 33, 34, 35, 36, 37, 40), (2, 8, 9, 11, 13, 17, 21, 25, 28, 29, 32, 33, 34, 35, 36, 37, 40), (2, 8, 9, 13, 17, 21, 23, 25, 28, 29, 32, 33, 34, 35, 36, 37, 40), (2, 8, 9, 13, 17, 21, 22, 25, 28, 29, 32, 34, 35, 36, 37, 39, 40), (2, 8, 9, 10, 13, 17, 21, 25, 28, 29, 32, 33, 34, 35, 36, 37, 40), (2, 8, 9, 10, 11, 13, 17, 21, 25, 28, 29, 32, 34, 35, 36, 37, 40), (2, 8, 9, 13, 17, 21, 22, 23, 25, 28, 29, 33, 34, 35, 36, 37, 40), (2, 8, 9, 13, 17, 21, 23, 25, 28, 29, 33, 34, 35, 36, 37, 39, 40), (2, 8, 9, 11, 13, 17, 21, 23, 25, 28, 29, 32, 34, 35, 36, 37, 40), (2, 8, 9, 10, 13, 17, 21, 22, 25, 28, 29, 33, 34, 35, 36, 37, 40)]\n",
      "10\n",
      "(2, 8, 9, 13, 17, 21, 22, 25, 28, 29, 32, 33, 34, 35, 36, 37, 40)\n",
      "[0, 1, 3, 4, 5, 6, 7, 10, 11, 12, 14, 15, 16, 18, 19, 20, 23, 24, 26, 27, 30, 31, 38, 39] 24\n",
      "(2, 8, 9, 11, 13, 17, 21, 25, 28, 29, 32, 33, 34, 35, 36, 37, 40)\n",
      "[0, 1, 3, 4, 5, 6, 7, 10, 12, 14, 15, 16, 18, 19, 20, 22, 23, 24, 26, 27, 30, 31, 38, 39] 24\n",
      "(2, 8, 9, 13, 17, 21, 23, 25, 28, 29, 32, 33, 34, 35, 36, 37, 40)\n",
      "[0, 1, 3, 4, 5, 6, 7, 10, 11, 12, 14, 15, 16, 18, 19, 20, 22, 24, 26, 27, 30, 31, 38, 39] 24\n",
      "(2, 8, 9, 13, 17, 21, 22, 25, 28, 29, 32, 34, 35, 36, 37, 39, 40)\n",
      "[0, 1, 3, 4, 5, 6, 7, 10, 11, 12, 14, 15, 16, 18, 19, 20, 23, 24, 26, 27, 30, 31, 33, 38] 24\n",
      "(2, 8, 9, 10, 13, 17, 21, 25, 28, 29, 32, 33, 34, 35, 36, 37, 40)\n",
      "[0, 1, 3, 4, 5, 6, 7, 11, 12, 14, 15, 16, 18, 19, 20, 22, 23, 24, 26, 27, 30, 31, 38, 39] 24\n",
      "(2, 8, 9, 10, 11, 13, 17, 21, 25, 28, 29, 32, 34, 35, 36, 37, 40)\n",
      "[0, 1, 3, 4, 5, 6, 7, 12, 14, 15, 16, 18, 19, 20, 22, 23, 24, 26, 27, 30, 31, 33, 38, 39] 24\n",
      "(2, 8, 9, 13, 17, 21, 22, 23, 25, 28, 29, 33, 34, 35, 36, 37, 40)\n",
      "[0, 1, 3, 4, 5, 6, 7, 10, 11, 12, 14, 15, 16, 18, 19, 20, 24, 26, 27, 30, 31, 32, 38, 39] 24\n",
      "(2, 8, 9, 13, 17, 21, 23, 25, 28, 29, 33, 34, 35, 36, 37, 39, 40)\n",
      "[0, 1, 3, 4, 5, 6, 7, 10, 11, 12, 14, 15, 16, 18, 19, 20, 22, 24, 26, 27, 30, 31, 32, 38] 24\n",
      "(2, 8, 9, 11, 13, 17, 21, 23, 25, 28, 29, 32, 34, 35, 36, 37, 40)\n",
      "[0, 1, 3, 4, 5, 6, 7, 10, 12, 14, 15, 16, 18, 19, 20, 22, 24, 26, 27, 30, 31, 33, 38, 39] 24\n",
      "(2, 8, 9, 10, 13, 17, 21, 22, 25, 28, 29, 33, 34, 35, 36, 37, 40)\n",
      "[0, 1, 3, 4, 5, 6, 7, 11, 12, 14, 15, 16, 18, 19, 20, 23, 24, 26, 27, 30, 31, 32, 38, 39] 24\n"
     ]
    }
   ],
   "source": [
    "print(multi_result2)\n",
    "print(len(multi_result2))\n",
    "for i in multi_result2:\n",
    "    print(i)\n",
    "    remain = RGS.get_remain_test_combination(i)\n",
    "    print(remain, len(remain))"
   ]
  },
  {
   "cell_type": "code",
   "execution_count": 228,
   "metadata": {},
   "outputs": [
    {
     "name": "stdout",
     "output_type": "stream",
     "text": [
      "[(2, 5, 9, 10, 13, 17, 21, 22, 25, 28, 29, 30, 32, 33, 34, 35, 36, 37, 40), (2, 8, 9, 13, 17, 21, 22, 25, 28, 29, 32, 33, 34, 35, 36, 37, 40), (2, 8, 9, 11, 13, 17, 21, 25, 28, 29, 32, 33, 34, 35, 36, 37, 40), (2, 8, 9, 13, 17, 21, 23, 25, 28, 29, 32, 33, 34, 35, 36, 37, 40), (2, 8, 9, 13, 17, 21, 22, 25, 28, 29, 32, 34, 35, 36, 37, 39, 40), (2, 8, 9, 10, 13, 17, 21, 25, 28, 29, 32, 33, 34, 35, 36, 37, 40), (2, 8, 9, 10, 11, 13, 17, 21, 25, 28, 29, 32, 34, 35, 36, 37, 40), (2, 8, 9, 13, 17, 21, 22, 23, 25, 28, 29, 33, 34, 35, 36, 37, 40), (2, 8, 9, 13, 17, 21, 23, 25, 28, 29, 33, 34, 35, 36, 37, 39, 40), (2, 8, 9, 11, 13, 17, 21, 23, 25, 28, 29, 32, 34, 35, 36, 37, 40), (2, 8, 9, 10, 13, 17, 21, 22, 25, 28, 29, 33, 34, 35, 36, 37, 40)]\n"
     ]
    }
   ],
   "source": [
    "my_trial = RGS.get_tried_combination()"
   ]
  },
  {
   "cell_type": "code",
   "execution_count": 229,
   "metadata": {},
   "outputs": [
    {
     "name": "stdout",
     "output_type": "stream",
     "text": [
      "11\n"
     ]
    }
   ],
   "source": [
    "print(len(my_trial))    "
   ]
  },
  {
   "cell_type": "code",
   "execution_count": 233,
   "metadata": {},
   "outputs": [],
   "source": [
    "from RandomGroupSpliter import RandomGroupSplitter"
   ]
  },
  {
   "cell_type": "code",
   "execution_count": 234,
   "metadata": {},
   "outputs": [],
   "source": [
    "RGS = RandomGroupSplitter(noise = True, force_bound = False, tolerance = 0.1, split_rate = 0.75, label_matrix = label_matrix)"
   ]
  },
  {
   "cell_type": "code",
   "execution_count": 235,
   "metadata": {},
   "outputs": [],
   "source": [
    "current_result, result_idx = RGS.get_one_combination()"
   ]
  },
  {
   "cell_type": "code",
   "execution_count": 236,
   "metadata": {},
   "outputs": [
    {
     "name": "stdout",
     "output_type": "stream",
     "text": [
      "[ 797  229  317 1636] [2, 8, 10, 13, 17, 21, 23, 25, 28, 29, 32, 33, 34, 35, 36, 37, 40]\n"
     ]
    }
   ],
   "source": [
    "print(current_result, result_idx)"
   ]
  },
  {
   "cell_type": "code",
   "execution_count": 237,
   "metadata": {},
   "outputs": [
    {
     "name": "stdout",
     "output_type": "stream",
     "text": [
      "1th iteration, len of combination_list: 111930\n",
      "2th iteration, len of combination_list: 174041\n",
      "3th iteration, len of combination_list: 66928\n",
      "4th iteration, len of combination_list: 51320\n"
     ]
    }
   ],
   "source": [
    "a, b = RGS.get_multi_combination(10, 1000)"
   ]
  },
  {
   "cell_type": "code",
   "execution_count": 238,
   "metadata": {},
   "outputs": [
    {
     "name": "stdout",
     "output_type": "stream",
     "text": [
      "[[ 821.  271.  317. 1497.]\n",
      " [ 835.  271.  317. 1437.]\n",
      " [ 807.  271.  317. 1523.]\n",
      " [ 833.  271.  317. 1412.]\n",
      " [ 799.  271.  317. 1531.]\n",
      " [ 835.  271.  317. 1403.]\n",
      " [ 789.  271.  317. 1531.]\n",
      " [ 779.  271.  317. 1514.]\n",
      " [ 843.  271.  317. 1395.]\n",
      " [ 781.  271.  317. 1539.]] [(2, 8, 9, 13, 17, 21, 22, 25, 28, 29, 32, 33, 34, 35, 36, 37, 40), (2, 8, 9, 11, 13, 17, 21, 25, 28, 29, 32, 33, 34, 35, 36, 37, 40), (2, 8, 9, 13, 17, 21, 23, 25, 28, 29, 32, 33, 34, 35, 36, 37, 40), (2, 8, 9, 13, 17, 21, 22, 25, 28, 29, 32, 34, 35, 36, 37, 39, 40), (2, 8, 9, 10, 13, 17, 21, 25, 28, 29, 32, 33, 34, 35, 36, 37, 40), (2, 8, 9, 10, 11, 13, 17, 21, 25, 28, 29, 32, 34, 35, 36, 37, 40), (2, 8, 9, 13, 17, 21, 22, 23, 25, 28, 29, 33, 34, 35, 36, 37, 40), (2, 8, 9, 13, 17, 21, 23, 25, 28, 29, 33, 34, 35, 36, 37, 39, 40), (2, 8, 9, 11, 13, 17, 21, 23, 25, 28, 29, 32, 34, 35, 36, 37, 40), (2, 8, 9, 10, 13, 17, 21, 22, 25, 28, 29, 33, 34, 35, 36, 37, 40)]\n"
     ]
    }
   ],
   "source": [
    "print(a, b)"
   ]
  }
 ],
 "metadata": {
  "kernelspec": {
   "display_name": "sklearn-env",
   "language": "python",
   "name": "python3"
  },
  "language_info": {
   "codemirror_mode": {
    "name": "ipython",
    "version": 3
   },
   "file_extension": ".py",
   "mimetype": "text/x-python",
   "name": "python",
   "nbconvert_exporter": "python",
   "pygments_lexer": "ipython3",
   "version": "3.8.16"
  }
 },
 "nbformat": 4,
 "nbformat_minor": 2
}
